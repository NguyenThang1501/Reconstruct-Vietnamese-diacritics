{
 "cells": [
  {
   "cell_type": "code",
   "execution_count": 1,
   "id": "2b6bb8ca",
   "metadata": {
    "_cell_guid": "b1076dfc-b9ad-4769-8c92-a6c4dae69d19",
    "_uuid": "8f2839f25d086af736a60e9eeb907d3b93b6e0e5",
    "execution": {
     "iopub.execute_input": "2024-12-03T14:06:19.324398Z",
     "iopub.status.busy": "2024-12-03T14:06:19.324095Z",
     "iopub.status.idle": "2024-12-03T14:06:19.967828Z",
     "shell.execute_reply": "2024-12-03T14:06:19.967202Z"
    },
    "papermill": {
     "duration": 0.651348,
     "end_time": "2024-12-03T14:06:19.969797",
     "exception": false,
     "start_time": "2024-12-03T14:06:19.318449",
     "status": "completed"
    },
    "tags": []
   },
   "outputs": [],
   "source": [
    "import os\n",
    "import pandas as pd\n",
    "import re"
   ]
  },
  {
   "cell_type": "markdown",
   "id": "0749b727",
   "metadata": {
    "papermill": {
     "duration": 0.003573,
     "end_time": "2024-12-03T14:06:19.977402",
     "exception": false,
     "start_time": "2024-12-03T14:06:19.973829",
     "status": "completed"
    },
    "tags": []
   },
   "source": [
    "## **1. Xây dựng bộ dữ liệu**"
   ]
  },
  {
   "cell_type": "markdown",
   "id": "b7309b1d",
   "metadata": {},
   "source": [
    "Dữ liệu ban đầu gồm 11 folders: doi-song, du-lich, giai-tri, giao-duc, khoa-hoc, kinh-doanh, phap-luat, suc-khoe, the-gioi, the-thao, thoi-su được cào từ trang báo VNExpress. Trong mỗi folder chứa các file txt là nội dung 1 bài báo.\n",
    "\n",
    "Ta sẽ tiến hành tách các bài báo thành các câu riêng biệt. Sau đó, xoá dấu ở các câu để tạo bộ dữ liệu cho bài toán. Mỗi bản ghi trong bộ dữ liệu sẽ là 1 câu trong đoạn văn và câu tương ứng sau khi đã bỏ dấu."
   ]
  },
  {
   "cell_type": "code",
   "execution_count": null,
   "id": "5c426639",
   "metadata": {
    "execution": {
     "iopub.execute_input": "2024-12-03T14:06:19.985652Z",
     "iopub.status.busy": "2024-12-03T14:06:19.985314Z",
     "iopub.status.idle": "2024-12-03T14:06:19.989550Z",
     "shell.execute_reply": "2024-12-03T14:06:19.988806Z"
    },
    "papermill": {
     "duration": 0.010134,
     "end_time": "2024-12-03T14:06:19.991064",
     "exception": false,
     "start_time": "2024-12-03T14:06:19.980930",
     "status": "completed"
    },
    "tags": []
   },
   "outputs": [],
   "source": [
    "def split_into_sentences(text):\n",
    "    sentence_endings = re.compile(r'(?<!\\.)\\.(?!\\.)|\\?|\\!')\n",
    "    sentences = sentence_endings.split(text)\n",
    "\n",
    "    sentences = [sent.strip() for sent in sentences if sent.strip()]\n",
    "\n",
    "    return sentences "
   ]
  },
  {
   "cell_type": "code",
   "execution_count": null,
   "id": "f42de5fc",
   "metadata": {
    "execution": {
     "iopub.execute_input": "2024-12-03T14:06:20.000269Z",
     "iopub.status.busy": "2024-12-03T14:06:19.999999Z",
     "iopub.status.idle": "2024-12-03T14:06:20.005545Z",
     "shell.execute_reply": "2024-12-03T14:06:20.004831Z"
    },
    "papermill": {
     "duration": 0.011304,
     "end_time": "2024-12-03T14:06:20.007018",
     "exception": false,
     "start_time": "2024-12-03T14:06:19.995714",
     "status": "completed"
    },
    "tags": []
   },
   "outputs": [],
   "source": [
    "def process_folder(folder_path):\n",
    "    sentences = []\n",
    "    for root, dirs, files in os.walk(folder_path):\n",
    "        for filename in files:\n",
    "            if filename.endswith(\".txt\"):\n",
    "                file_path = os.path.join(root, filename)\n",
    "                with open(file_path, \"r\", encoding=\"utf-8\") as file:\n",
    "                    lines = file.readlines()\n",
    "                    if lines:\n",
    "                        title = lines[0].strip()\n",
    "                        sentences.append(title)  \n",
    "                        text = \" \".join([line.strip() for line in lines[1:] if line.strip()])  \n",
    "                        if not re.search(r'[\\.!?]$', text):\n",
    "                            text += \".\"\n",
    "                        sentences.extend(split_into_sentences(text)) \n",
    "    return sentences"
   ]
  },
  {
   "cell_type": "code",
   "execution_count": null,
   "id": "84e8babb",
   "metadata": {
    "execution": {
     "iopub.execute_input": "2024-12-03T14:06:20.015468Z",
     "iopub.status.busy": "2024-12-03T14:06:20.015007Z",
     "iopub.status.idle": "2024-12-03T14:06:49.140488Z",
     "shell.execute_reply": "2024-12-03T14:06:49.139777Z"
    },
    "papermill": {
     "duration": 29.131792,
     "end_time": "2024-12-03T14:06:49.142503",
     "exception": false,
     "start_time": "2024-12-03T14:06:20.010711",
     "status": "completed"
    },
    "tags": []
   },
   "outputs": [],
   "source": [
    "main_folder_path = \"/kaggle/input/vietnamese-sentences/data/results\"  \n",
    "all_sentences = process_folder(main_folder_path)\n",
    "\n",
    "df = pd.DataFrame(all_sentences, columns=[\"Sentence\"])\n"
   ]
  },
  {
   "cell_type": "code",
   "execution_count": 5,
   "id": "390f6679",
   "metadata": {
    "execution": {
     "iopub.execute_input": "2024-12-03T14:06:49.151722Z",
     "iopub.status.busy": "2024-12-03T14:06:49.151059Z",
     "iopub.status.idle": "2024-12-03T14:06:49.172067Z",
     "shell.execute_reply": "2024-12-03T14:06:49.171313Z"
    },
    "papermill": {
     "duration": 0.027202,
     "end_time": "2024-12-03T14:06:49.173869",
     "exception": false,
     "start_time": "2024-12-03T14:06:49.146667",
     "status": "completed"
    },
    "tags": []
   },
   "outputs": [
    {
     "data": {
      "text/html": [
       "<div>\n",
       "<style scoped>\n",
       "    .dataframe tbody tr th:only-of-type {\n",
       "        vertical-align: middle;\n",
       "    }\n",
       "\n",
       "    .dataframe tbody tr th {\n",
       "        vertical-align: top;\n",
       "    }\n",
       "\n",
       "    .dataframe thead th {\n",
       "        text-align: right;\n",
       "    }\n",
       "</style>\n",
       "<table border=\"1\" class=\"dataframe\">\n",
       "  <thead>\n",
       "    <tr style=\"text-align: right;\">\n",
       "      <th></th>\n",
       "      <th>Sentence</th>\n",
       "    </tr>\n",
       "  </thead>\n",
       "  <tbody>\n",
       "    <tr>\n",
       "      <th>0</th>\n",
       "      <td>Ngôi đền cho người đồng tính</td>\n",
       "    </tr>\n",
       "    <tr>\n",
       "      <th>1</th>\n",
       "      <td>Đài Loan Đền Tu'er Shen ở thành phố Tân Bắc, t...</td>\n",
       "    </tr>\n",
       "    <tr>\n",
       "      <th>2</th>\n",
       "      <td>Đền Tu'er Shen được lập năm 2006 bởi một người...</td>\n",
       "    </tr>\n",
       "    <tr>\n",
       "      <th>3</th>\n",
       "      <td>Công trình khá khiêm tốn, nằm trong một con hẻ...</td>\n",
       "    </tr>\n",
       "    <tr>\n",
       "      <th>4</th>\n",
       "      <td>Nơi đây là điểm lui tới thường xuyên cho những...</td>\n",
       "    </tr>\n",
       "    <tr>\n",
       "      <th>...</th>\n",
       "      <td>...</td>\n",
       "    </tr>\n",
       "    <tr>\n",
       "      <th>179063</th>\n",
       "      <td>Nếu không có biện pháp, Việt Nam có thể thiệt ...</td>\n",
       "    </tr>\n",
       "    <tr>\n",
       "      <th>179064</th>\n",
       "      <td>Việt Nam cần đầu tư 368 tỷ USD để ứng phó biến...</td>\n",
       "    </tr>\n",
       "    <tr>\n",
       "      <th>179065</th>\n",
       "      <td>\"Vì vậy, cử tri mong có chương trình mang tầm ...</td>\n",
       "    </tr>\n",
       "    <tr>\n",
       "      <th>179066</th>\n",
       "      <td>Ngày 14/10, mưa lớn suốt 6 giờ do hoàn lưu trư...</td>\n",
       "    </tr>\n",
       "    <tr>\n",
       "      <th>179067</th>\n",
       "      <td>Tình trạng ngập lụt cũng thường xuyên xảy ra t...</td>\n",
       "    </tr>\n",
       "  </tbody>\n",
       "</table>\n",
       "<p>179068 rows × 1 columns</p>\n",
       "</div>"
      ],
      "text/plain": [
       "                                                 Sentence\n",
       "0                            Ngôi đền cho người đồng tính\n",
       "1       Đài Loan Đền Tu'er Shen ở thành phố Tân Bắc, t...\n",
       "2       Đền Tu'er Shen được lập năm 2006 bởi một người...\n",
       "3       Công trình khá khiêm tốn, nằm trong một con hẻ...\n",
       "4       Nơi đây là điểm lui tới thường xuyên cho những...\n",
       "...                                                   ...\n",
       "179063  Nếu không có biện pháp, Việt Nam có thể thiệt ...\n",
       "179064  Việt Nam cần đầu tư 368 tỷ USD để ứng phó biến...\n",
       "179065  \"Vì vậy, cử tri mong có chương trình mang tầm ...\n",
       "179066  Ngày 14/10, mưa lớn suốt 6 giờ do hoàn lưu trư...\n",
       "179067  Tình trạng ngập lụt cũng thường xuyên xảy ra t...\n",
       "\n",
       "[179068 rows x 1 columns]"
      ]
     },
     "execution_count": 5,
     "metadata": {},
     "output_type": "execute_result"
    }
   ],
   "source": [
    "df"
   ]
  },
  {
   "cell_type": "code",
   "execution_count": null,
   "id": "6f6a1e44",
   "metadata": {
    "execution": {
     "iopub.execute_input": "2024-12-03T14:06:49.184089Z",
     "iopub.status.busy": "2024-12-03T14:06:49.183480Z",
     "iopub.status.idle": "2024-12-03T14:06:53.411110Z",
     "shell.execute_reply": "2024-12-03T14:06:53.410450Z"
    },
    "papermill": {
     "duration": 4.234854,
     "end_time": "2024-12-03T14:06:53.413138",
     "exception": false,
     "start_time": "2024-12-03T14:06:49.178284",
     "status": "completed"
    },
    "tags": []
   },
   "outputs": [],
   "source": [
    "import unicodedata\n",
    "\n",
    "def remove_vietnamese_accents(text):\n",
    "    text = unicodedata.normalize('NFD', text)\n",
    "    text = ''.join([c for c in text if unicodedata.category(c) != 'Mn'])\n",
    "    text = text.replace('đ', 'd').replace('Đ', 'D')\n",
    "    return text\n",
    "\n",
    "df['Sentence_Without_Accents'] = df['Sentence'].apply(remove_vietnamese_accents)\n"
   ]
  },
  {
   "cell_type": "code",
   "execution_count": 7,
   "id": "7d5cde4e",
   "metadata": {
    "execution": {
     "iopub.execute_input": "2024-12-03T14:06:53.422232Z",
     "iopub.status.busy": "2024-12-03T14:06:53.421952Z",
     "iopub.status.idle": "2024-12-03T14:06:53.431419Z",
     "shell.execute_reply": "2024-12-03T14:06:53.430567Z"
    },
    "papermill": {
     "duration": 0.015666,
     "end_time": "2024-12-03T14:06:53.432937",
     "exception": false,
     "start_time": "2024-12-03T14:06:53.417271",
     "status": "completed"
    },
    "tags": []
   },
   "outputs": [
    {
     "data": {
      "text/html": [
       "<div>\n",
       "<style scoped>\n",
       "    .dataframe tbody tr th:only-of-type {\n",
       "        vertical-align: middle;\n",
       "    }\n",
       "\n",
       "    .dataframe tbody tr th {\n",
       "        vertical-align: top;\n",
       "    }\n",
       "\n",
       "    .dataframe thead th {\n",
       "        text-align: right;\n",
       "    }\n",
       "</style>\n",
       "<table border=\"1\" class=\"dataframe\">\n",
       "  <thead>\n",
       "    <tr style=\"text-align: right;\">\n",
       "      <th></th>\n",
       "      <th>Sentence</th>\n",
       "      <th>Sentence_Without_Accents</th>\n",
       "    </tr>\n",
       "  </thead>\n",
       "  <tbody>\n",
       "    <tr>\n",
       "      <th>0</th>\n",
       "      <td>Ngôi đền cho người đồng tính</td>\n",
       "      <td>Ngoi den cho nguoi dong tinh</td>\n",
       "    </tr>\n",
       "    <tr>\n",
       "      <th>1</th>\n",
       "      <td>Đài Loan Đền Tu'er Shen ở thành phố Tân Bắc, t...</td>\n",
       "      <td>Dai Loan Den Tu'er Shen o thanh pho Tan Bac, t...</td>\n",
       "    </tr>\n",
       "    <tr>\n",
       "      <th>2</th>\n",
       "      <td>Đền Tu'er Shen được lập năm 2006 bởi một người...</td>\n",
       "      <td>Den Tu'er Shen duoc lap nam 2006 boi mot nguoi...</td>\n",
       "    </tr>\n",
       "    <tr>\n",
       "      <th>3</th>\n",
       "      <td>Công trình khá khiêm tốn, nằm trong một con hẻ...</td>\n",
       "      <td>Cong trinh kha khiem ton, nam trong mot con he...</td>\n",
       "    </tr>\n",
       "    <tr>\n",
       "      <th>4</th>\n",
       "      <td>Nơi đây là điểm lui tới thường xuyên cho những...</td>\n",
       "      <td>Noi day la diem lui toi thuong xuyen cho nhung...</td>\n",
       "    </tr>\n",
       "    <tr>\n",
       "      <th>...</th>\n",
       "      <td>...</td>\n",
       "      <td>...</td>\n",
       "    </tr>\n",
       "    <tr>\n",
       "      <th>179063</th>\n",
       "      <td>Nếu không có biện pháp, Việt Nam có thể thiệt ...</td>\n",
       "      <td>Neu khong co bien phap, Viet Nam co the thiet ...</td>\n",
       "    </tr>\n",
       "    <tr>\n",
       "      <th>179064</th>\n",
       "      <td>Việt Nam cần đầu tư 368 tỷ USD để ứng phó biến...</td>\n",
       "      <td>Viet Nam can dau tu 368 ty USD de ung pho bien...</td>\n",
       "    </tr>\n",
       "    <tr>\n",
       "      <th>179065</th>\n",
       "      <td>\"Vì vậy, cử tri mong có chương trình mang tầm ...</td>\n",
       "      <td>\"Vi vay, cu tri mong co chuong trinh mang tam ...</td>\n",
       "    </tr>\n",
       "    <tr>\n",
       "      <th>179066</th>\n",
       "      <td>Ngày 14/10, mưa lớn suốt 6 giờ do hoàn lưu trư...</td>\n",
       "      <td>Ngay 14/10, mua lon suot 6 gio do hoan luu tru...</td>\n",
       "    </tr>\n",
       "    <tr>\n",
       "      <th>179067</th>\n",
       "      <td>Tình trạng ngập lụt cũng thường xuyên xảy ra t...</td>\n",
       "      <td>Tinh trang ngap lut cung thuong xuyen xay ra t...</td>\n",
       "    </tr>\n",
       "  </tbody>\n",
       "</table>\n",
       "<p>179068 rows × 2 columns</p>\n",
       "</div>"
      ],
      "text/plain": [
       "                                                 Sentence  \\\n",
       "0                            Ngôi đền cho người đồng tính   \n",
       "1       Đài Loan Đền Tu'er Shen ở thành phố Tân Bắc, t...   \n",
       "2       Đền Tu'er Shen được lập năm 2006 bởi một người...   \n",
       "3       Công trình khá khiêm tốn, nằm trong một con hẻ...   \n",
       "4       Nơi đây là điểm lui tới thường xuyên cho những...   \n",
       "...                                                   ...   \n",
       "179063  Nếu không có biện pháp, Việt Nam có thể thiệt ...   \n",
       "179064  Việt Nam cần đầu tư 368 tỷ USD để ứng phó biến...   \n",
       "179065  \"Vì vậy, cử tri mong có chương trình mang tầm ...   \n",
       "179066  Ngày 14/10, mưa lớn suốt 6 giờ do hoàn lưu trư...   \n",
       "179067  Tình trạng ngập lụt cũng thường xuyên xảy ra t...   \n",
       "\n",
       "                                 Sentence_Without_Accents  \n",
       "0                            Ngoi den cho nguoi dong tinh  \n",
       "1       Dai Loan Den Tu'er Shen o thanh pho Tan Bac, t...  \n",
       "2       Den Tu'er Shen duoc lap nam 2006 boi mot nguoi...  \n",
       "3       Cong trinh kha khiem ton, nam trong mot con he...  \n",
       "4       Noi day la diem lui toi thuong xuyen cho nhung...  \n",
       "...                                                   ...  \n",
       "179063  Neu khong co bien phap, Viet Nam co the thiet ...  \n",
       "179064  Viet Nam can dau tu 368 ty USD de ung pho bien...  \n",
       "179065  \"Vi vay, cu tri mong co chuong trinh mang tam ...  \n",
       "179066  Ngay 14/10, mua lon suot 6 gio do hoan luu tru...  \n",
       "179067  Tinh trang ngap lut cung thuong xuyen xay ra t...  \n",
       "\n",
       "[179068 rows x 2 columns]"
      ]
     },
     "execution_count": 7,
     "metadata": {},
     "output_type": "execute_result"
    }
   ],
   "source": [
    "df"
   ]
  },
  {
   "cell_type": "code",
   "execution_count": 8,
   "id": "526f6b27",
   "metadata": {
    "execution": {
     "iopub.execute_input": "2024-12-03T14:06:53.442011Z",
     "iopub.status.busy": "2024-12-03T14:06:53.441770Z",
     "iopub.status.idle": "2024-12-03T14:06:54.712084Z",
     "shell.execute_reply": "2024-12-03T14:06:54.711206Z"
    },
    "papermill": {
     "duration": 1.277079,
     "end_time": "2024-12-03T14:06:54.714147",
     "exception": false,
     "start_time": "2024-12-03T14:06:53.437068",
     "status": "completed"
    },
    "tags": []
   },
   "outputs": [],
   "source": [
    "df.to_csv('/kaggle/working/data_vn.csv')"
   ]
  },
  {
   "cell_type": "code",
   "execution_count": 9,
   "id": "f3f0689a",
   "metadata": {
    "execution": {
     "iopub.execute_input": "2024-12-03T14:06:54.723811Z",
     "iopub.status.busy": "2024-12-03T14:06:54.723559Z",
     "iopub.status.idle": "2024-12-03T14:07:05.105191Z",
     "shell.execute_reply": "2024-12-03T14:07:05.104473Z"
    },
    "papermill": {
     "duration": 10.3886,
     "end_time": "2024-12-03T14:07:05.107169",
     "exception": false,
     "start_time": "2024-12-03T14:06:54.718569",
     "status": "completed"
    },
    "tags": []
   },
   "outputs": [],
   "source": [
    "import tensorflow as tf\n",
    "from tensorflow.keras.models import Sequential\n",
    "from tensorflow.keras.layers import Embedding, Bidirectional, LSTM, GRU, Dense, Dropout, Conv1D, MaxPooling1D, TimeDistributed\n",
    "from tensorflow.keras.preprocessing.text import Tokenizer\n",
    "from tensorflow.keras.preprocessing.sequence import pad_sequences\n",
    "import numpy as np\n",
    "\n",
    "sentences_no_accents = df['Sentence_Without_Accents'].tolist()\n",
    "sentences_with_accents = df['Sentence'].tolist()"
   ]
  },
  {
   "cell_type": "markdown",
   "id": "8f38b0f3",
   "metadata": {
    "papermill": {
     "duration": 0.004005,
     "end_time": "2024-12-03T14:07:05.115628",
     "exception": false,
     "start_time": "2024-12-03T14:07:05.111623",
     "status": "completed"
    },
    "tags": []
   },
   "source": [
    "## **2. Sử dụng character-based approach**"
   ]
  },
  {
   "cell_type": "code",
   "execution_count": 10,
   "id": "6d1dfc61",
   "metadata": {
    "execution": {
     "iopub.execute_input": "2024-12-03T14:07:05.124944Z",
     "iopub.status.busy": "2024-12-03T14:07:05.124454Z",
     "iopub.status.idle": "2024-12-03T14:07:14.575564Z",
     "shell.execute_reply": "2024-12-03T14:07:14.574776Z"
    },
    "papermill": {
     "duration": 9.458036,
     "end_time": "2024-12-03T14:07:14.577666",
     "exception": false,
     "start_time": "2024-12-03T14:07:05.119630",
     "status": "completed"
    },
    "tags": []
   },
   "outputs": [],
   "source": [
    "tokenizer = Tokenizer(char_level=True, filters='', lower=False)  \n",
    "tokenizer.fit_on_texts(sentences_no_accents + sentences_with_accents)\n",
    "\n",
    "vocab_size = len(tokenizer.word_index) + 1"
   ]
  },
  {
   "cell_type": "code",
   "execution_count": 11,
   "id": "0464a7aa",
   "metadata": {
    "execution": {
     "iopub.execute_input": "2024-12-03T14:07:14.587954Z",
     "iopub.status.busy": "2024-12-03T14:07:14.587697Z",
     "iopub.status.idle": "2024-12-03T14:07:20.997786Z",
     "shell.execute_reply": "2024-12-03T14:07:20.996832Z"
    },
    "papermill": {
     "duration": 6.417543,
     "end_time": "2024-12-03T14:07:20.999935",
     "exception": false,
     "start_time": "2024-12-03T14:07:14.582392",
     "status": "completed"
    },
    "tags": []
   },
   "outputs": [],
   "source": [
    "sequences_no_accents = tokenizer.texts_to_sequences(sentences_no_accents)\n",
    "sequences_with_accents = tokenizer.texts_to_sequences(sentences_with_accents)"
   ]
  },
  {
   "cell_type": "code",
   "execution_count": 12,
   "id": "08f07a50",
   "metadata": {
    "execution": {
     "iopub.execute_input": "2024-12-03T14:07:21.010070Z",
     "iopub.status.busy": "2024-12-03T14:07:21.009695Z",
     "iopub.status.idle": "2024-12-03T14:07:23.422000Z",
     "shell.execute_reply": "2024-12-03T14:07:23.421334Z"
    },
    "papermill": {
     "duration": 2.419546,
     "end_time": "2024-12-03T14:07:23.424022",
     "exception": false,
     "start_time": "2024-12-03T14:07:21.004476",
     "status": "completed"
    },
    "tags": []
   },
   "outputs": [],
   "source": [
    "max_length = max(max(len(seq) for seq in sequences_no_accents),\n",
    "                 max(len(seq) for seq in sequences_with_accents))\n",
    "\n",
    "padded_no_accents = pad_sequences(sequences_no_accents, maxlen=max_length, padding='post')\n",
    "padded_with_accents = pad_sequences(sequences_with_accents, maxlen=max_length, padding='post')"
   ]
  },
  {
   "cell_type": "code",
   "execution_count": 13,
   "id": "82476cdc",
   "metadata": {
    "execution": {
     "iopub.execute_input": "2024-12-03T14:07:23.433794Z",
     "iopub.status.busy": "2024-12-03T14:07:23.433511Z",
     "iopub.status.idle": "2024-12-03T14:07:23.438377Z",
     "shell.execute_reply": "2024-12-03T14:07:23.437660Z"
    },
    "papermill": {
     "duration": 0.011396,
     "end_time": "2024-12-03T14:07:23.439920",
     "exception": false,
     "start_time": "2024-12-03T14:07:23.428524",
     "status": "completed"
    },
    "tags": []
   },
   "outputs": [
    {
     "data": {
      "text/plain": [
       "(179068, 1432)"
      ]
     },
     "execution_count": 13,
     "metadata": {},
     "output_type": "execute_result"
    }
   ],
   "source": [
    "padded_no_accents.shape"
   ]
  },
  {
   "cell_type": "code",
   "execution_count": 14,
   "id": "a9576f07",
   "metadata": {
    "execution": {
     "iopub.execute_input": "2024-12-03T14:07:23.449097Z",
     "iopub.status.busy": "2024-12-03T14:07:23.448847Z",
     "iopub.status.idle": "2024-12-03T14:07:23.452675Z",
     "shell.execute_reply": "2024-12-03T14:07:23.452003Z"
    },
    "papermill": {
     "duration": 0.010085,
     "end_time": "2024-12-03T14:07:23.454100",
     "exception": false,
     "start_time": "2024-12-03T14:07:23.444015",
     "status": "completed"
    },
    "tags": []
   },
   "outputs": [],
   "source": [
    "split_idx = int(0.8 * len(padded_no_accents))\n",
    "X_train, X_test = padded_no_accents[:split_idx], padded_no_accents[split_idx:]\n",
    "y_train, y_test = padded_with_accents[:split_idx], padded_with_accents[split_idx:]\n"
   ]
  },
  {
   "cell_type": "markdown",
   "id": "c5c8379a",
   "metadata": {
    "papermill": {
     "duration": 0.004168,
     "end_time": "2024-12-03T14:07:23.462278",
     "exception": false,
     "start_time": "2024-12-03T14:07:23.458110",
     "status": "completed"
    },
    "tags": []
   },
   "source": [
    "## **3. Xây dựng mô hình**"
   ]
  },
  {
   "cell_type": "markdown",
   "id": "e3c4b7f9",
   "metadata": {},
   "source": [
    "### **3.1. Mô hình 1**"
   ]
  },
  {
   "cell_type": "markdown",
   "id": "cb600cf1",
   "metadata": {},
   "source": [
    "**Xây dựng mô hình ban đầu gồm 3 lớp: Embedding, LSTM, Dense.**"
   ]
  },
  {
   "cell_type": "code",
   "execution_count": null,
   "id": "d39ebc6a",
   "metadata": {},
   "outputs": [
    {
     "name": "stderr",
     "output_type": "stream",
     "text": [
      "/opt/conda/lib/python3.10/site-packages/keras/src/layers/core/embedding.py:90: UserWarning: Argument `input_length` is deprecated. Just remove it.\n",
      "  warnings.warn(\n"
     ]
    },
    {
     "data": {
      "text/html": [
       "<pre style=\"white-space:pre;overflow-x:auto;line-height:normal;font-family:Menlo,'DejaVu Sans Mono',consolas,'Courier New',monospace\"><span style=\"font-weight: bold\">Model: \"sequential\"</span>\n",
       "</pre>\n"
      ],
      "text/plain": [
       "\u001b[1mModel: \"sequential\"\u001b[0m\n"
      ]
     },
     "metadata": {},
     "output_type": "display_data"
    },
    {
     "data": {
      "text/html": [
       "<pre style=\"white-space:pre;overflow-x:auto;line-height:normal;font-family:Menlo,'DejaVu Sans Mono',consolas,'Courier New',monospace\">┏━━━━━━━━━━━━━━━━━━━━━━━━━━━━━━━━━┳━━━━━━━━━━━━━━━━━━━━━━━━┳━━━━━━━━━━━━━━━┓\n",
       "┃<span style=\"font-weight: bold\"> Layer (type)                    </span>┃<span style=\"font-weight: bold\"> Output Shape           </span>┃<span style=\"font-weight: bold\">       Param # </span>┃\n",
       "┡━━━━━━━━━━━━━━━━━━━━━━━━━━━━━━━━━╇━━━━━━━━━━━━━━━━━━━━━━━━╇━━━━━━━━━━━━━━━┩\n",
       "│ embedding (<span style=\"color: #0087ff; text-decoration-color: #0087ff\">Embedding</span>)           │ ?                      │   <span style=\"color: #00af00; text-decoration-color: #00af00\">0</span> (unbuilt) │\n",
       "├─────────────────────────────────┼────────────────────────┼───────────────┤\n",
       "│ bidirectional (<span style=\"color: #0087ff; text-decoration-color: #0087ff\">Bidirectional</span>)   │ ?                      │   <span style=\"color: #00af00; text-decoration-color: #00af00\">0</span> (unbuilt) │\n",
       "├─────────────────────────────────┼────────────────────────┼───────────────┤\n",
       "│ dense (<span style=\"color: #0087ff; text-decoration-color: #0087ff\">Dense</span>)                   │ ?                      │   <span style=\"color: #00af00; text-decoration-color: #00af00\">0</span> (unbuilt) │\n",
       "└─────────────────────────────────┴────────────────────────┴───────────────┘\n",
       "</pre>\n"
      ],
      "text/plain": [
       "┏━━━━━━━━━━━━━━━━━━━━━━━━━━━━━━━━━┳━━━━━━━━━━━━━━━━━━━━━━━━┳━━━━━━━━━━━━━━━┓\n",
       "┃\u001b[1m \u001b[0m\u001b[1mLayer (type)                   \u001b[0m\u001b[1m \u001b[0m┃\u001b[1m \u001b[0m\u001b[1mOutput Shape          \u001b[0m\u001b[1m \u001b[0m┃\u001b[1m \u001b[0m\u001b[1m      Param #\u001b[0m\u001b[1m \u001b[0m┃\n",
       "┡━━━━━━━━━━━━━━━━━━━━━━━━━━━━━━━━━╇━━━━━━━━━━━━━━━━━━━━━━━━╇━━━━━━━━━━━━━━━┩\n",
       "│ embedding (\u001b[38;5;33mEmbedding\u001b[0m)           │ ?                      │   \u001b[38;5;34m0\u001b[0m (unbuilt) │\n",
       "├─────────────────────────────────┼────────────────────────┼───────────────┤\n",
       "│ bidirectional (\u001b[38;5;33mBidirectional\u001b[0m)   │ ?                      │   \u001b[38;5;34m0\u001b[0m (unbuilt) │\n",
       "├─────────────────────────────────┼────────────────────────┼───────────────┤\n",
       "│ dense (\u001b[38;5;33mDense\u001b[0m)                   │ ?                      │   \u001b[38;5;34m0\u001b[0m (unbuilt) │\n",
       "└─────────────────────────────────┴────────────────────────┴───────────────┘\n"
      ]
     },
     "metadata": {},
     "output_type": "display_data"
    },
    {
     "data": {
      "text/html": [
       "<pre style=\"white-space:pre;overflow-x:auto;line-height:normal;font-family:Menlo,'DejaVu Sans Mono',consolas,'Courier New',monospace\"><span style=\"font-weight: bold\"> Total params: </span><span style=\"color: #00af00; text-decoration-color: #00af00\">0</span> (0.00 B)\n",
       "</pre>\n"
      ],
      "text/plain": [
       "\u001b[1m Total params: \u001b[0m\u001b[38;5;34m0\u001b[0m (0.00 B)\n"
      ]
     },
     "metadata": {},
     "output_type": "display_data"
    },
    {
     "data": {
      "text/html": [
       "<pre style=\"white-space:pre;overflow-x:auto;line-height:normal;font-family:Menlo,'DejaVu Sans Mono',consolas,'Courier New',monospace\"><span style=\"font-weight: bold\"> Trainable params: </span><span style=\"color: #00af00; text-decoration-color: #00af00\">0</span> (0.00 B)\n",
       "</pre>\n"
      ],
      "text/plain": [
       "\u001b[1m Trainable params: \u001b[0m\u001b[38;5;34m0\u001b[0m (0.00 B)\n"
      ]
     },
     "metadata": {},
     "output_type": "display_data"
    },
    {
     "data": {
      "text/html": [
       "<pre style=\"white-space:pre;overflow-x:auto;line-height:normal;font-family:Menlo,'DejaVu Sans Mono',consolas,'Courier New',monospace\"><span style=\"font-weight: bold\"> Non-trainable params: </span><span style=\"color: #00af00; text-decoration-color: #00af00\">0</span> (0.00 B)\n",
       "</pre>\n"
      ],
      "text/plain": [
       "\u001b[1m Non-trainable params: \u001b[0m\u001b[38;5;34m0\u001b[0m (0.00 B)\n"
      ]
     },
     "metadata": {},
     "output_type": "display_data"
    }
   ],
   "source": [
    "model = Sequential([\n",
    "    Embedding(input_dim=vocab_size, output_dim=128, input_length=max_length),\n",
    "    Bidirectional(LSTM(128, return_sequences=True)),\n",
    "    Dense(vocab_size, activation='softmax')\n",
    "])\n",
    "\n",
    "model.compile(optimizer='adam', loss='sparse_categorical_crossentropy', metrics=['accuracy'])\n",
    "model.summary()"
   ]
  },
  {
   "cell_type": "code",
   "execution_count": null,
   "id": "7d9e24f8",
   "metadata": {},
   "outputs": [],
   "source": [
    "X_train = np.array(X_train)\n",
    "y_train = np.expand_dims(np.array(y_train), axis=-1)\n",
    "X_test = np.array(X_test)\n",
    "y_test = np.expand_dims(np.array(y_test), axis=-1)"
   ]
  },
  {
   "cell_type": "code",
   "execution_count": null,
   "id": "fa04e646",
   "metadata": {},
   "outputs": [
    {
     "name": "stdout",
     "output_type": "stream",
     "text": [
      "Epoch 1/50\n",
      "\u001b[1m2239/2239\u001b[0m \u001b[32m━━━━━━━━━━━━━━━━━━━━\u001b[0m\u001b[37m\u001b[0m \u001b[1m420s\u001b[0m 186ms/step - accuracy: 0.9790 - loss: 0.1282 - val_accuracy: 0.9933 - val_loss: 0.0212\n",
      "Epoch 2/50\n",
      "\u001b[1m2239/2239\u001b[0m \u001b[32m━━━━━━━━━━━━━━━━━━━━\u001b[0m\u001b[37m\u001b[0m \u001b[1m425s\u001b[0m 190ms/step - accuracy: 0.9945 - loss: 0.0184 - val_accuracy: 0.9947 - val_loss: 0.0173\n",
      "Epoch 3/50\n",
      "\u001b[1m2239/2239\u001b[0m \u001b[32m━━━━━━━━━━━━━━━━━━━━\u001b[0m\u001b[37m\u001b[0m \u001b[1m427s\u001b[0m 191ms/step - accuracy: 0.9955 - loss: 0.0154 - val_accuracy: 0.9954 - val_loss: 0.0152\n",
      "Epoch 4/50\n",
      "\u001b[1m2239/2239\u001b[0m \u001b[32m━━━━━━━━━━━━━━━━━━━━\u001b[0m\u001b[37m\u001b[0m \u001b[1m427s\u001b[0m 191ms/step - accuracy: 0.9961 - loss: 0.0135 - val_accuracy: 0.9959 - val_loss: 0.0137\n",
      "Epoch 5/50\n",
      "\u001b[1m2239/2239\u001b[0m \u001b[32m━━━━━━━━━━━━━━━━━━━━\u001b[0m\u001b[37m\u001b[0m \u001b[1m427s\u001b[0m 191ms/step - accuracy: 0.9966 - loss: 0.0119 - val_accuracy: 0.9964 - val_loss: 0.0124\n",
      "Epoch 6/50\n",
      "\u001b[1m2239/2239\u001b[0m \u001b[32m━━━━━━━━━━━━━━━━━━━━\u001b[0m\u001b[37m\u001b[0m \u001b[1m428s\u001b[0m 191ms/step - accuracy: 0.9969 - loss: 0.0113 - val_accuracy: 0.9966 - val_loss: 0.0118\n",
      "Epoch 7/50\n",
      "\u001b[1m2239/2239\u001b[0m \u001b[32m━━━━━━━━━━━━━━━━━━━━\u001b[0m\u001b[37m\u001b[0m \u001b[1m428s\u001b[0m 191ms/step - accuracy: 0.9971 - loss: 0.0103 - val_accuracy: 0.9967 - val_loss: 0.0113\n",
      "Epoch 8/50\n",
      "\u001b[1m2239/2239\u001b[0m \u001b[32m━━━━━━━━━━━━━━━━━━━━\u001b[0m\u001b[37m\u001b[0m \u001b[1m428s\u001b[0m 191ms/step - accuracy: 0.9973 - loss: 0.0100 - val_accuracy: 0.9968 - val_loss: 0.0110\n",
      "Epoch 9/50\n",
      "\u001b[1m2239/2239\u001b[0m \u001b[32m━━━━━━━━━━━━━━━━━━━━\u001b[0m\u001b[37m\u001b[0m \u001b[1m428s\u001b[0m 191ms/step - accuracy: 0.9974 - loss: 0.0094 - val_accuracy: 0.9970 - val_loss: 0.0107\n",
      "Epoch 10/50\n",
      "\u001b[1m2239/2239\u001b[0m \u001b[32m━━━━━━━━━━━━━━━━━━━━\u001b[0m\u001b[37m\u001b[0m \u001b[1m427s\u001b[0m 191ms/step - accuracy: 0.9975 - loss: 0.0091 - val_accuracy: 0.9970 - val_loss: 0.0105\n",
      "Epoch 11/50\n",
      "\u001b[1m2239/2239\u001b[0m \u001b[32m━━━━━━━━━━━━━━━━━━━━\u001b[0m\u001b[37m\u001b[0m \u001b[1m427s\u001b[0m 191ms/step - accuracy: 0.9976 - loss: 0.0089 - val_accuracy: 0.9971 - val_loss: 0.0102\n",
      "Epoch 12/50\n",
      "\u001b[1m2239/2239\u001b[0m \u001b[32m━━━━━━━━━━━━━━━━━━━━\u001b[0m\u001b[37m\u001b[0m \u001b[1m427s\u001b[0m 191ms/step - accuracy: 0.9976 - loss: 0.0088 - val_accuracy: 0.9972 - val_loss: 0.0100\n",
      "Epoch 13/50\n",
      "\u001b[1m2239/2239\u001b[0m \u001b[32m━━━━━━━━━━━━━━━━━━━━\u001b[0m\u001b[37m\u001b[0m \u001b[1m427s\u001b[0m 191ms/step - accuracy: 0.9977 - loss: 0.0086 - val_accuracy: 0.9972 - val_loss: 0.0099\n",
      "Epoch 14/50\n",
      "\u001b[1m2239/2239\u001b[0m \u001b[32m━━━━━━━━━━━━━━━━━━━━\u001b[0m\u001b[37m\u001b[0m \u001b[1m428s\u001b[0m 191ms/step - accuracy: 0.9977 - loss: 0.0084 - val_accuracy: 0.9972 - val_loss: 0.0099\n",
      "Epoch 15/50\n",
      "\u001b[1m2239/2239\u001b[0m \u001b[32m━━━━━━━━━━━━━━━━━━━━\u001b[0m\u001b[37m\u001b[0m \u001b[1m427s\u001b[0m 191ms/step - accuracy: 0.9978 - loss: 0.0082 - val_accuracy: 0.9973 - val_loss: 0.0097\n",
      "Epoch 16/50\n",
      "\u001b[1m2239/2239\u001b[0m \u001b[32m━━━━━━━━━━━━━━━━━━━━\u001b[0m\u001b[37m\u001b[0m \u001b[1m428s\u001b[0m 191ms/step - accuracy: 0.9978 - loss: 0.0082 - val_accuracy: 0.9973 - val_loss: 0.0096\n",
      "Epoch 17/50\n",
      "\u001b[1m2239/2239\u001b[0m \u001b[32m━━━━━━━━━━━━━━━━━━━━\u001b[0m\u001b[37m\u001b[0m \u001b[1m428s\u001b[0m 191ms/step - accuracy: 0.9979 - loss: 0.0079 - val_accuracy: 0.9973 - val_loss: 0.0095\n",
      "Epoch 18/50\n",
      "\u001b[1m2239/2239\u001b[0m \u001b[32m━━━━━━━━━━━━━━━━━━━━\u001b[0m\u001b[37m\u001b[0m \u001b[1m427s\u001b[0m 191ms/step - accuracy: 0.9979 - loss: 0.0080 - val_accuracy: 0.9973 - val_loss: 0.0096\n",
      "Epoch 19/50\n",
      "\u001b[1m2239/2239\u001b[0m \u001b[32m━━━━━━━━━━━━━━━━━━━━\u001b[0m\u001b[37m\u001b[0m \u001b[1m427s\u001b[0m 191ms/step - accuracy: 0.9979 - loss: 0.0077 - val_accuracy: 0.9973 - val_loss: 0.0095\n",
      "Epoch 20/50\n",
      "\u001b[1m2239/2239\u001b[0m \u001b[32m━━━━━━━━━━━━━━━━━━━━\u001b[0m\u001b[37m\u001b[0m \u001b[1m427s\u001b[0m 191ms/step - accuracy: 0.9980 - loss: 0.0076 - val_accuracy: 0.9974 - val_loss: 0.0095\n",
      "Epoch 21/50\n",
      "\u001b[1m2239/2239\u001b[0m \u001b[32m━━━━━━━━━━━━━━━━━━━━\u001b[0m\u001b[37m\u001b[0m \u001b[1m426s\u001b[0m 190ms/step - accuracy: 0.9980 - loss: 0.0076 - val_accuracy: 0.9973 - val_loss: 0.0095\n",
      "Epoch 22/50\n",
      "\u001b[1m2239/2239\u001b[0m \u001b[32m━━━━━━━━━━━━━━━━━━━━\u001b[0m\u001b[37m\u001b[0m \u001b[1m427s\u001b[0m 191ms/step - accuracy: 0.9980 - loss: 0.0075 - val_accuracy: 0.9974 - val_loss: 0.0094\n",
      "Epoch 23/50\n",
      "\u001b[1m2239/2239\u001b[0m \u001b[32m━━━━━━━━━━━━━━━━━━━━\u001b[0m\u001b[37m\u001b[0m \u001b[1m428s\u001b[0m 191ms/step - accuracy: 0.9980 - loss: 0.0074 - val_accuracy: 0.9974 - val_loss: 0.0093\n",
      "Epoch 24/50\n",
      "\u001b[1m2239/2239\u001b[0m \u001b[32m━━━━━━━━━━━━━━━━━━━━\u001b[0m\u001b[37m\u001b[0m \u001b[1m427s\u001b[0m 191ms/step - accuracy: 0.9980 - loss: 0.0072 - val_accuracy: 0.9974 - val_loss: 0.0093\n",
      "Epoch 25/50\n",
      "\u001b[1m2239/2239\u001b[0m \u001b[32m━━━━━━━━━━━━━━━━━━━━\u001b[0m\u001b[37m\u001b[0m \u001b[1m428s\u001b[0m 191ms/step - accuracy: 0.9980 - loss: 0.0074 - val_accuracy: 0.9974 - val_loss: 0.0094\n",
      "Epoch 26/50\n",
      "\u001b[1m2239/2239\u001b[0m \u001b[32m━━━━━━━━━━━━━━━━━━━━\u001b[0m\u001b[37m\u001b[0m \u001b[1m427s\u001b[0m 191ms/step - accuracy: 0.9981 - loss: 0.0072 - val_accuracy: 0.9974 - val_loss: 0.0094\n",
      "Epoch 27/50\n",
      "\u001b[1m2239/2239\u001b[0m \u001b[32m━━━━━━━━━━━━━━━━━━━━\u001b[0m\u001b[37m\u001b[0m \u001b[1m427s\u001b[0m 191ms/step - accuracy: 0.9981 - loss: 0.0072 - val_accuracy: 0.9974 - val_loss: 0.0093\n",
      "Epoch 28/50\n",
      "\u001b[1m2239/2239\u001b[0m \u001b[32m━━━━━━━━━━━━━━━━━━━━\u001b[0m\u001b[37m\u001b[0m \u001b[1m427s\u001b[0m 191ms/step - accuracy: 0.9981 - loss: 0.0073 - val_accuracy: 0.9974 - val_loss: 0.0093\n",
      "Epoch 29/50\n",
      "\u001b[1m2239/2239\u001b[0m \u001b[32m━━━━━━━━━━━━━━━━━━━━\u001b[0m\u001b[37m\u001b[0m \u001b[1m427s\u001b[0m 191ms/step - accuracy: 0.9981 - loss: 0.0070 - val_accuracy: 0.9974 - val_loss: 0.0092\n",
      "Epoch 30/50\n",
      "\u001b[1m2239/2239\u001b[0m \u001b[32m━━━━━━━━━━━━━━━━━━━━\u001b[0m\u001b[37m\u001b[0m \u001b[1m427s\u001b[0m 191ms/step - accuracy: 0.9981 - loss: 0.0070 - val_accuracy: 0.9974 - val_loss: 0.0093\n",
      "Epoch 31/50\n",
      "\u001b[1m2239/2239\u001b[0m \u001b[32m━━━━━━━━━━━━━━━━━━━━\u001b[0m\u001b[37m\u001b[0m \u001b[1m427s\u001b[0m 191ms/step - accuracy: 0.9981 - loss: 0.0070 - val_accuracy: 0.9974 - val_loss: 0.0092\n",
      "Epoch 32/50\n",
      "\u001b[1m2239/2239\u001b[0m \u001b[32m━━━━━━━━━━━━━━━━━━━━\u001b[0m\u001b[37m\u001b[0m \u001b[1m427s\u001b[0m 191ms/step - accuracy: 0.9981 - loss: 0.0070 - val_accuracy: 0.9975 - val_loss: 0.0092\n",
      "Epoch 33/50\n",
      "\u001b[1m2239/2239\u001b[0m \u001b[32m━━━━━━━━━━━━━━━━━━━━\u001b[0m\u001b[37m\u001b[0m \u001b[1m427s\u001b[0m 191ms/step - accuracy: 0.9981 - loss: 0.0069 - val_accuracy: 0.9974 - val_loss: 0.0092\n",
      "Epoch 34/50\n",
      "\u001b[1m2239/2239\u001b[0m \u001b[32m━━━━━━━━━━━━━━━━━━━━\u001b[0m\u001b[37m\u001b[0m \u001b[1m427s\u001b[0m 191ms/step - accuracy: 0.9981 - loss: 0.0070 - val_accuracy: 0.9975 - val_loss: 0.0092\n",
      "Epoch 35/50\n",
      "\u001b[1m2239/2239\u001b[0m \u001b[32m━━━━━━━━━━━━━━━━━━━━\u001b[0m\u001b[37m\u001b[0m \u001b[1m426s\u001b[0m 190ms/step - accuracy: 0.9982 - loss: 0.0069 - val_accuracy: 0.9975 - val_loss: 0.0092\n",
      "Epoch 36/50\n",
      "\u001b[1m2239/2239\u001b[0m \u001b[32m━━━━━━━━━━━━━━━━━━━━\u001b[0m\u001b[37m\u001b[0m \u001b[1m426s\u001b[0m 190ms/step - accuracy: 0.9982 - loss: 0.0067 - val_accuracy: 0.9974 - val_loss: 0.0092\n",
      "Epoch 37/50\n",
      "\u001b[1m2239/2239\u001b[0m \u001b[32m━━━━━━━━━━━━━━━━━━━━\u001b[0m\u001b[37m\u001b[0m \u001b[1m427s\u001b[0m 191ms/step - accuracy: 0.9982 - loss: 0.0067 - val_accuracy: 0.9975 - val_loss: 0.0091\n",
      "Epoch 38/50\n",
      "\u001b[1m2239/2239\u001b[0m \u001b[32m━━━━━━━━━━━━━━━━━━━━\u001b[0m\u001b[37m\u001b[0m \u001b[1m427s\u001b[0m 191ms/step - accuracy: 0.9982 - loss: 0.0067 - val_accuracy: 0.9975 - val_loss: 0.0092\n",
      "Epoch 39/50\n",
      "\u001b[1m2239/2239\u001b[0m \u001b[32m━━━━━━━━━━━━━━━━━━━━\u001b[0m\u001b[37m\u001b[0m \u001b[1m427s\u001b[0m 191ms/step - accuracy: 0.9982 - loss: 0.0068 - val_accuracy: 0.9975 - val_loss: 0.0091\n",
      "Epoch 40/50\n",
      "\u001b[1m2239/2239\u001b[0m \u001b[32m━━━━━━━━━━━━━━━━━━━━\u001b[0m\u001b[37m\u001b[0m \u001b[1m427s\u001b[0m 191ms/step - accuracy: 0.9982 - loss: 0.0067 - val_accuracy: 0.9974 - val_loss: 0.0092\n",
      "Epoch 41/50\n",
      "\u001b[1m2239/2239\u001b[0m \u001b[32m━━━━━━━━━━━━━━━━━━━━\u001b[0m\u001b[37m\u001b[0m \u001b[1m427s\u001b[0m 191ms/step - accuracy: 0.9982 - loss: 0.0068 - val_accuracy: 0.9974 - val_loss: 0.0093\n",
      "Epoch 42/50\n",
      "\u001b[1m2239/2239\u001b[0m \u001b[32m━━━━━━━━━━━━━━━━━━━━\u001b[0m\u001b[37m\u001b[0m \u001b[1m427s\u001b[0m 191ms/step - accuracy: 0.9982 - loss: 0.0067 - val_accuracy: 0.9975 - val_loss: 0.0091\n",
      "Epoch 43/50\n",
      "\u001b[1m2239/2239\u001b[0m \u001b[32m━━━━━━━━━━━━━━━━━━━━\u001b[0m\u001b[37m\u001b[0m \u001b[1m427s\u001b[0m 191ms/step - accuracy: 0.9982 - loss: 0.0066 - val_accuracy: 0.9975 - val_loss: 0.0092\n",
      "Epoch 44/50\n",
      "\u001b[1m2239/2239\u001b[0m \u001b[32m━━━━━━━━━━━━━━━━━━━━\u001b[0m\u001b[37m\u001b[0m \u001b[1m426s\u001b[0m 190ms/step - accuracy: 0.9982 - loss: 0.0067 - val_accuracy: 0.9975 - val_loss: 0.0091\n",
      "Epoch 45/50\n",
      "\u001b[1m2239/2239\u001b[0m \u001b[32m━━━━━━━━━━━━━━━━━━━━\u001b[0m\u001b[37m\u001b[0m \u001b[1m427s\u001b[0m 191ms/step - accuracy: 0.9982 - loss: 0.0067 - val_accuracy: 0.9975 - val_loss: 0.0091\n",
      "Epoch 46/50\n",
      "\u001b[1m2239/2239\u001b[0m \u001b[32m━━━━━━━━━━━━━━━━━━━━\u001b[0m\u001b[37m\u001b[0m \u001b[1m427s\u001b[0m 191ms/step - accuracy: 0.9982 - loss: 0.0066 - val_accuracy: 0.9975 - val_loss: 0.0091\n",
      "Epoch 47/50\n",
      "\u001b[1m2239/2239\u001b[0m \u001b[32m━━━━━━━━━━━━━━━━━━━━\u001b[0m\u001b[37m\u001b[0m \u001b[1m426s\u001b[0m 190ms/step - accuracy: 0.9982 - loss: 0.0065 - val_accuracy: 0.9975 - val_loss: 0.0091\n",
      "Epoch 48/50\n",
      "\u001b[1m2239/2239\u001b[0m \u001b[32m━━━━━━━━━━━━━━━━━━━━\u001b[0m\u001b[37m\u001b[0m \u001b[1m427s\u001b[0m 191ms/step - accuracy: 0.9982 - loss: 0.0066 - val_accuracy: 0.9975 - val_loss: 0.0091\n",
      "Epoch 49/50\n",
      "\u001b[1m2239/2239\u001b[0m \u001b[32m━━━━━━━━━━━━━━━━━━━━\u001b[0m\u001b[37m\u001b[0m \u001b[1m427s\u001b[0m 191ms/step - accuracy: 0.9982 - loss: 0.0065 - val_accuracy: 0.9975 - val_loss: 0.0093\n",
      "Epoch 50/50\n",
      "\u001b[1m2239/2239\u001b[0m \u001b[32m━━━━━━━━━━━━━━━━━━━━\u001b[0m\u001b[37m\u001b[0m \u001b[1m427s\u001b[0m 191ms/step - accuracy: 0.9983 - loss: 0.0065 - val_accuracy: 0.9975 - val_loss: 0.0092\n"
     ]
    }
   ],
   "source": [
    "history = model.fit(X_train, y_train, validation_data=(X_test, y_test), epochs=50, batch_size=64)"
   ]
  },
  {
   "cell_type": "markdown",
   "id": "746c91bf",
   "metadata": {},
   "source": [
    "**Thời gian huấn luyện mô hình: ~6h30m**"
   ]
  },
  {
   "cell_type": "code",
   "execution_count": null,
   "id": "73910eff",
   "metadata": {},
   "outputs": [
    {
     "data": {
      "image/png": "[encoded data removed]",
      "text/plain": [
       "<Figure size 640x480 with 1 Axes>"
      ]
     },
     "metadata": {},
     "output_type": "display_data"
    }
   ],
   "source": [
    "import matplotlib.pyplot as plt\n",
    "\n",
    "plt.plot(history.history['loss'], label='Training Loss')\n",
    "plt.plot(history.history['val_loss'], label='Validation Loss')\n",
    "plt.xlabel('Epochs')\n",
    "plt.ylabel('Loss')\n",
    "plt.title('Loss Curve')\n",
    "plt.legend()\n",
    "plt.show()"
   ]
  },
  {
   "cell_type": "code",
   "execution_count": null,
   "id": "436ddf6c",
   "metadata": {},
   "outputs": [
    {
     "name": "stdout",
     "output_type": "stream",
     "text": [
      "\u001b[1m1/1\u001b[0m \u001b[32m━━━━━━━━━━━━━━━━━━━━\u001b[0m\u001b[37m\u001b[0m \u001b[1m0s\u001b[0m 231ms/step\n",
      "Input: ban co muon di choi voi toi khong\n",
      "Restored: ban có muốn đi chơi với tôi không\n"
     ]
    }
   ],
   "source": [
    "def restore_diacritics(text):\n",
    "    seq = tokenizer.texts_to_sequences([text])\n",
    "    padded_seq = pad_sequences(seq, maxlen=max_length, padding='post')\n",
    "    prediction = model.predict(padded_seq)\n",
    "    predicted_seq = np.argmax(prediction, axis=-1)[0]\n",
    "    restored_text = ''.join([tokenizer.index_word[idx] for idx in predicted_seq if idx != 0])\n",
    "    return restored_text\n",
    "\n",
    "# Kiểm tra mô hình\n",
    "example_text = \"ban co muon di choi voi toi khong\"\n",
    "restored_text = restore_diacritics(example_text)\n",
    "print(f\"Input: {example_text}\")\n",
    "print(f\"Restored: {restored_text}\")"
   ]
  },
  {
   "cell_type": "markdown",
   "id": "ead55a7a",
   "metadata": {},
   "source": [
    "**Nhận xét: Mô hình cho kết quả chưa hoàn toàn chính xác. Do đó, ta sẽ thêm một số lớp vào kiến trúc để cải thiện khả năng dự đoán cho mô hình.**"
   ]
  },
  {
   "cell_type": "code",
   "execution_count": null,
   "id": "2a021330",
   "metadata": {},
   "outputs": [],
   "source": [
    "model.save(\"/kaggle/working/vietnamese_diacritics_model.h5\")"
   ]
  },
  {
   "cell_type": "markdown",
   "id": "af275549",
   "metadata": {},
   "source": [
    "### **3.2. Mô hình 2**"
   ]
  },
  {
   "cell_type": "markdown",
   "id": "c8d58f8c",
   "metadata": {},
   "source": [
    "Thêm vào mô hình hai lớp:\n",
    "- LSTM: tăng khả năng dự đoán\n",
    "- Dropout: tránh bị overfitting khi ta tăng thêm độ phức tạp cho mô hình."
   ]
  },
  {
   "cell_type": "code",
   "execution_count": 15,
   "id": "fa471986",
   "metadata": {
    "execution": {
     "iopub.execute_input": "2024-12-03T14:07:23.471290Z",
     "iopub.status.busy": "2024-12-03T14:07:23.471005Z",
     "iopub.status.idle": "2024-12-03T14:07:24.315013Z",
     "shell.execute_reply": "2024-12-03T14:07:24.314196Z"
    },
    "papermill": {
     "duration": 0.85055,
     "end_time": "2024-12-03T14:07:24.316824",
     "exception": false,
     "start_time": "2024-12-03T14:07:23.466274",
     "status": "completed"
    },
    "tags": []
   },
   "outputs": [
    {
     "name": "stderr",
     "output_type": "stream",
     "text": [
      "/opt/conda/lib/python3.10/site-packages/keras/src/layers/core/embedding.py:90: UserWarning: Argument `input_length` is deprecated. Just remove it.\n",
      "  warnings.warn(\n"
     ]
    },
    {
     "data": {
      "text/html": [
       "<pre style=\"white-space:pre;overflow-x:auto;line-height:normal;font-family:Menlo,'DejaVu Sans Mono',consolas,'Courier New',monospace\"><span style=\"font-weight: bold\">Model: \"sequential\"</span>\n",
       "</pre>\n"
      ],
      "text/plain": [
       "\u001b[1mModel: \"sequential\"\u001b[0m\n"
      ]
     },
     "metadata": {},
     "output_type": "display_data"
    },
    {
     "data": {
      "text/html": [
       "<pre style=\"white-space:pre;overflow-x:auto;line-height:normal;font-family:Menlo,'DejaVu Sans Mono',consolas,'Courier New',monospace\">┏━━━━━━━━━━━━━━━━━━━━━━━━━━━━━━━━━┳━━━━━━━━━━━━━━━━━━━━━━━━┳━━━━━━━━━━━━━━━┓\n",
       "┃<span style=\"font-weight: bold\"> Layer (type)                    </span>┃<span style=\"font-weight: bold\"> Output Shape           </span>┃<span style=\"font-weight: bold\">       Param # </span>┃\n",
       "┡━━━━━━━━━━━━━━━━━━━━━━━━━━━━━━━━━╇━━━━━━━━━━━━━━━━━━━━━━━━╇━━━━━━━━━━━━━━━┩\n",
       "│ embedding (<span style=\"color: #0087ff; text-decoration-color: #0087ff\">Embedding</span>)           │ ?                      │   <span style=\"color: #00af00; text-decoration-color: #00af00\">0</span> (unbuilt) │\n",
       "├─────────────────────────────────┼────────────────────────┼───────────────┤\n",
       "│ bidirectional (<span style=\"color: #0087ff; text-decoration-color: #0087ff\">Bidirectional</span>)   │ ?                      │   <span style=\"color: #00af00; text-decoration-color: #00af00\">0</span> (unbuilt) │\n",
       "├─────────────────────────────────┼────────────────────────┼───────────────┤\n",
       "│ dropout (<span style=\"color: #0087ff; text-decoration-color: #0087ff\">Dropout</span>)               │ ?                      │   <span style=\"color: #00af00; text-decoration-color: #00af00\">0</span> (unbuilt) │\n",
       "├─────────────────────────────────┼────────────────────────┼───────────────┤\n",
       "│ bidirectional_1 (<span style=\"color: #0087ff; text-decoration-color: #0087ff\">Bidirectional</span>) │ ?                      │   <span style=\"color: #00af00; text-decoration-color: #00af00\">0</span> (unbuilt) │\n",
       "├─────────────────────────────────┼────────────────────────┼───────────────┤\n",
       "│ dense (<span style=\"color: #0087ff; text-decoration-color: #0087ff\">Dense</span>)                   │ ?                      │   <span style=\"color: #00af00; text-decoration-color: #00af00\">0</span> (unbuilt) │\n",
       "└─────────────────────────────────┴────────────────────────┴───────────────┘\n",
       "</pre>\n"
      ],
      "text/plain": [
       "┏━━━━━━━━━━━━━━━━━━━━━━━━━━━━━━━━━┳━━━━━━━━━━━━━━━━━━━━━━━━┳━━━━━━━━━━━━━━━┓\n",
       "┃\u001b[1m \u001b[0m\u001b[1mLayer (type)                   \u001b[0m\u001b[1m \u001b[0m┃\u001b[1m \u001b[0m\u001b[1mOutput Shape          \u001b[0m\u001b[1m \u001b[0m┃\u001b[1m \u001b[0m\u001b[1m      Param #\u001b[0m\u001b[1m \u001b[0m┃\n",
       "┡━━━━━━━━━━━━━━━━━━━━━━━━━━━━━━━━━╇━━━━━━━━━━━━━━━━━━━━━━━━╇━━━━━━━━━━━━━━━┩\n",
       "│ embedding (\u001b[38;5;33mEmbedding\u001b[0m)           │ ?                      │   \u001b[38;5;34m0\u001b[0m (unbuilt) │\n",
       "├─────────────────────────────────┼────────────────────────┼───────────────┤\n",
       "│ bidirectional (\u001b[38;5;33mBidirectional\u001b[0m)   │ ?                      │   \u001b[38;5;34m0\u001b[0m (unbuilt) │\n",
       "├─────────────────────────────────┼────────────────────────┼───────────────┤\n",
       "│ dropout (\u001b[38;5;33mDropout\u001b[0m)               │ ?                      │   \u001b[38;5;34m0\u001b[0m (unbuilt) │\n",
       "├─────────────────────────────────┼────────────────────────┼───────────────┤\n",
       "│ bidirectional_1 (\u001b[38;5;33mBidirectional\u001b[0m) │ ?                      │   \u001b[38;5;34m0\u001b[0m (unbuilt) │\n",
       "├─────────────────────────────────┼────────────────────────┼───────────────┤\n",
       "│ dense (\u001b[38;5;33mDense\u001b[0m)                   │ ?                      │   \u001b[38;5;34m0\u001b[0m (unbuilt) │\n",
       "└─────────────────────────────────┴────────────────────────┴───────────────┘\n"
      ]
     },
     "metadata": {},
     "output_type": "display_data"
    },
    {
     "data": {
      "text/html": [
       "<pre style=\"white-space:pre;overflow-x:auto;line-height:normal;font-family:Menlo,'DejaVu Sans Mono',consolas,'Courier New',monospace\"><span style=\"font-weight: bold\"> Total params: </span><span style=\"color: #00af00; text-decoration-color: #00af00\">0</span> (0.00 B)\n",
       "</pre>\n"
      ],
      "text/plain": [
       "\u001b[1m Total params: \u001b[0m\u001b[38;5;34m0\u001b[0m (0.00 B)\n"
      ]
     },
     "metadata": {},
     "output_type": "display_data"
    },
    {
     "data": {
      "text/html": [
       "<pre style=\"white-space:pre;overflow-x:auto;line-height:normal;font-family:Menlo,'DejaVu Sans Mono',consolas,'Courier New',monospace\"><span style=\"font-weight: bold\"> Trainable params: </span><span style=\"color: #00af00; text-decoration-color: #00af00\">0</span> (0.00 B)\n",
       "</pre>\n"
      ],
      "text/plain": [
       "\u001b[1m Trainable params: \u001b[0m\u001b[38;5;34m0\u001b[0m (0.00 B)\n"
      ]
     },
     "metadata": {},
     "output_type": "display_data"
    },
    {
     "data": {
      "text/html": [
       "<pre style=\"white-space:pre;overflow-x:auto;line-height:normal;font-family:Menlo,'DejaVu Sans Mono',consolas,'Courier New',monospace\"><span style=\"font-weight: bold\"> Non-trainable params: </span><span style=\"color: #00af00; text-decoration-color: #00af00\">0</span> (0.00 B)\n",
       "</pre>\n"
      ],
      "text/plain": [
       "\u001b[1m Non-trainable params: \u001b[0m\u001b[38;5;34m0\u001b[0m (0.00 B)\n"
      ]
     },
     "metadata": {},
     "output_type": "display_data"
    }
   ],
   "source": [
    "model = Sequential([\n",
    "    Embedding(input_dim=vocab_size, output_dim=128, input_length=max_length),\n",
    "    Bidirectional(LSTM(128, return_sequences=True)),  \n",
    "    Dropout(0.2), \n",
    "    Bidirectional(LSTM(64, return_sequences=True)), \n",
    "    Dense(vocab_size, activation='softmax')\n",
    "])\n",
    "\n",
    "model.compile(optimizer='adam', loss='sparse_categorical_crossentropy', metrics=['accuracy'])\n",
    "model.summary()"
   ]
  },
  {
   "cell_type": "code",
   "execution_count": 16,
   "id": "7f7a386f",
   "metadata": {
    "execution": {
     "iopub.execute_input": "2024-12-03T14:07:24.327501Z",
     "iopub.status.busy": "2024-12-03T14:07:24.327227Z",
     "iopub.status.idle": "2024-12-03T14:07:25.033652Z",
     "shell.execute_reply": "2024-12-03T14:07:25.032688Z"
    },
    "papermill": {
     "duration": 0.714014,
     "end_time": "2024-12-03T14:07:25.035820",
     "exception": false,
     "start_time": "2024-12-03T14:07:24.321806",
     "status": "completed"
    },
    "tags": []
   },
   "outputs": [],
   "source": [
    "X_train = np.array(X_train)\n",
    "y_train = np.expand_dims(np.array(y_train), axis=-1)\n",
    "X_test = np.array(X_test)\n",
    "y_test = np.expand_dims(np.array(y_test), axis=-1)"
   ]
  },
  {
   "cell_type": "code",
   "execution_count": null,
   "id": "34ca4997",
   "metadata": {
    "execution": {
     "iopub.execute_input": "2024-12-03T14:07:25.047003Z",
     "iopub.status.busy": "2024-12-03T14:07:25.046723Z",
     "iopub.status.idle": "2024-12-03T23:25:51.509599Z",
     "shell.execute_reply": "2024-12-03T23:25:51.508535Z"
    },
    "papermill": {
     "duration": 33514.515994,
     "end_time": "2024-12-03T23:25:59.556827",
     "exception": false,
     "start_time": "2024-12-03T14:07:25.040833",
     "status": "completed"
    },
    "tags": []
   },
   "outputs": [
    {
     "name": "stdout",
     "output_type": "stream",
     "text": [
      "Epoch 1/50\n",
      "\u001b[1m4477/4477\u001b[0m \u001b[32m━━━━━━━━━━━━━━━━━━━━\u001b[0m\u001b[37m\u001b[0m \u001b[1m910s\u001b[0m 202ms/step - accuracy: 0.9773 - loss: 0.1385 - val_accuracy: 0.9951 - val_loss: 0.0158\n",
      "Epoch 2/50\n",
      "\u001b[1m4477/4477\u001b[0m \u001b[32m━━━━━━━━━━━━━━━━━━━━\u001b[0m\u001b[37m\u001b[0m \u001b[1m905s\u001b[0m 202ms/step - accuracy: 0.9957 - loss: 0.0143 - val_accuracy: 0.9965 - val_loss: 0.0113\n",
      "Epoch 3/50\n",
      "\u001b[1m4477/4477\u001b[0m \u001b[32m━━━━━━━━━━━━━━━━━━━━\u001b[0m\u001b[37m\u001b[0m \u001b[1m905s\u001b[0m 202ms/step - accuracy: 0.9968 - loss: 0.0107 - val_accuracy: 0.9972 - val_loss: 0.0093\n",
      "Epoch 4/50\n",
      "\u001b[1m4477/4477\u001b[0m \u001b[32m━━━━━━━━━━━━━━━━━━━━\u001b[0m\u001b[37m\u001b[0m \u001b[1m905s\u001b[0m 202ms/step - accuracy: 0.9974 - loss: 0.0091 - val_accuracy: 0.9976 - val_loss: 0.0083\n",
      "Epoch 5/50\n",
      "\u001b[1m4477/4477\u001b[0m \u001b[32m━━━━━━━━━━━━━━━━━━━━\u001b[0m\u001b[37m\u001b[0m \u001b[1m905s\u001b[0m 202ms/step - accuracy: 0.9977 - loss: 0.0082 - val_accuracy: 0.9978 - val_loss: 0.0076\n",
      "Epoch 6/50\n",
      "\u001b[1m4477/4477\u001b[0m \u001b[32m━━━━━━━━━━━━━━━━━━━━\u001b[0m\u001b[37m\u001b[0m \u001b[1m905s\u001b[0m 202ms/step - accuracy: 0.9978 - loss: 0.0078 - val_accuracy: 0.9979 - val_loss: 0.0072\n",
      "Epoch 7/50\n",
      "\u001b[1m4477/4477\u001b[0m \u001b[32m━━━━━━━━━━━━━━━━━━━━\u001b[0m\u001b[37m\u001b[0m \u001b[1m905s\u001b[0m 202ms/step - accuracy: 0.9980 - loss: 0.0072 - val_accuracy: 0.9980 - val_loss: 0.0069\n",
      "Epoch 8/50\n",
      "\u001b[1m4477/4477\u001b[0m \u001b[32m━━━━━━━━━━━━━━━━━━━━\u001b[0m\u001b[37m\u001b[0m \u001b[1m905s\u001b[0m 202ms/step - accuracy: 0.9981 - loss: 0.0070 - val_accuracy: 0.9981 - val_loss: 0.0067\n",
      "Epoch 9/50\n",
      "\u001b[1m4477/4477\u001b[0m \u001b[32m━━━━━━━━━━━━━━━━━━━━\u001b[0m\u001b[37m\u001b[0m \u001b[1m905s\u001b[0m 202ms/step - accuracy: 0.9981 - loss: 0.0067 - val_accuracy: 0.9981 - val_loss: 0.0065\n",
      "Epoch 10/50\n",
      "\u001b[1m4477/4477\u001b[0m \u001b[32m━━━━━━━━━━━━━━━━━━━━\u001b[0m\u001b[37m\u001b[0m \u001b[1m906s\u001b[0m 202ms/step - accuracy: 0.9982 - loss: 0.0065 - val_accuracy: 0.9982 - val_loss: 0.0063\n",
      "Epoch 11/50\n",
      "\u001b[1m4477/4477\u001b[0m \u001b[32m━━━━━━━━━━━━━━━━━━━━\u001b[0m\u001b[37m\u001b[0m \u001b[1m905s\u001b[0m 202ms/step - accuracy: 0.9983 - loss: 0.0061 - val_accuracy: 0.9982 - val_loss: 0.0063\n",
      "Epoch 12/50\n",
      "\u001b[1m4477/4477\u001b[0m \u001b[32m━━━━━━━━━━━━━━━━━━━━\u001b[0m\u001b[37m\u001b[0m \u001b[1m905s\u001b[0m 202ms/step - accuracy: 0.9983 - loss: 0.0062 - val_accuracy: 0.9982 - val_loss: 0.0061\n",
      "Epoch 13/50\n",
      "\u001b[1m4477/4477\u001b[0m \u001b[32m━━━━━━━━━━━━━━━━━━━━\u001b[0m\u001b[37m\u001b[0m \u001b[1m905s\u001b[0m 202ms/step - accuracy: 0.9983 - loss: 0.0060 - val_accuracy: 0.9983 - val_loss: 0.0060\n",
      "Epoch 14/50\n",
      "\u001b[1m4477/4477\u001b[0m \u001b[32m━━━━━━━━━━━━━━━━━━━━\u001b[0m\u001b[37m\u001b[0m \u001b[1m905s\u001b[0m 202ms/step - accuracy: 0.9983 - loss: 0.0061 - val_accuracy: 0.9983 - val_loss: 0.0059\n",
      "Epoch 15/50\n",
      "\u001b[1m4477/4477\u001b[0m \u001b[32m━━━━━━━━━━━━━━━━━━━━\u001b[0m\u001b[37m\u001b[0m \u001b[1m905s\u001b[0m 202ms/step - accuracy: 0.9984 - loss: 0.0058 - val_accuracy: 0.9983 - val_loss: 0.0059\n",
      "Epoch 16/50\n",
      "\u001b[1m4477/4477\u001b[0m \u001b[32m━━━━━━━━━━━━━━━━━━━━\u001b[0m\u001b[37m\u001b[0m \u001b[1m906s\u001b[0m 202ms/step - accuracy: 0.9984 - loss: 0.0059 - val_accuracy: 0.9983 - val_loss: 0.0058\n",
      "Epoch 17/50\n",
      "\u001b[1m4477/4477\u001b[0m \u001b[32m━━━━━━━━━━━━━━━━━━━━\u001b[0m\u001b[37m\u001b[0m \u001b[1m906s\u001b[0m 202ms/step - accuracy: 0.9984 - loss: 0.0056 - val_accuracy: 0.9983 - val_loss: 0.0058\n",
      "Epoch 18/50\n",
      "\u001b[1m4477/4477\u001b[0m \u001b[32m━━━━━━━━━━━━━━━━━━━━\u001b[0m\u001b[37m\u001b[0m \u001b[1m906s\u001b[0m 202ms/step - accuracy: 0.9985 - loss: 0.0056 - val_accuracy: 0.9984 - val_loss: 0.0057\n",
      "Epoch 19/50\n",
      "\u001b[1m4477/4477\u001b[0m \u001b[32m━━━━━━━━━━━━━━━━━━━━\u001b[0m\u001b[37m\u001b[0m \u001b[1m906s\u001b[0m 202ms/step - accuracy: 0.9985 - loss: 0.0056 - val_accuracy: 0.9984 - val_loss: 0.0058\n",
      "Epoch 20/50\n",
      "\u001b[1m4477/4477\u001b[0m \u001b[32m━━━━━━━━━━━━━━━━━━━━\u001b[0m\u001b[37m\u001b[0m \u001b[1m906s\u001b[0m 202ms/step - accuracy: 0.9985 - loss: 0.0055 - val_accuracy: 0.9984 - val_loss: 0.0056\n",
      "Epoch 21/50\n",
      "\u001b[1m4477/4477\u001b[0m \u001b[32m━━━━━━━━━━━━━━━━━━━━\u001b[0m\u001b[37m\u001b[0m \u001b[1m906s\u001b[0m 202ms/step - accuracy: 0.9985 - loss: 0.0056 - val_accuracy: 0.9984 - val_loss: 0.0056\n",
      "Epoch 22/50\n",
      "\u001b[1m4477/4477\u001b[0m \u001b[32m━━━━━━━━━━━━━━━━━━━━\u001b[0m\u001b[37m\u001b[0m \u001b[1m906s\u001b[0m 202ms/step - accuracy: 0.9985 - loss: 0.0054 - val_accuracy: 0.9984 - val_loss: 0.0056\n",
      "Epoch 23/50\n",
      "\u001b[1m4477/4477\u001b[0m \u001b[32m━━━━━━━━━━━━━━━━━━━━\u001b[0m\u001b[37m\u001b[0m \u001b[1m905s\u001b[0m 202ms/step - accuracy: 0.9985 - loss: 0.0054 - val_accuracy: 0.9984 - val_loss: 0.0056\n",
      "Epoch 24/50\n",
      "\u001b[1m4477/4477\u001b[0m \u001b[32m━━━━━━━━━━━━━━━━━━━━\u001b[0m\u001b[37m\u001b[0m \u001b[1m906s\u001b[0m 202ms/step - accuracy: 0.9986 - loss: 0.0053 - val_accuracy: 0.9984 - val_loss: 0.0055\n",
      "Epoch 25/50\n",
      "\u001b[1m4477/4477\u001b[0m \u001b[32m━━━━━━━━━━━━━━━━━━━━\u001b[0m\u001b[37m\u001b[0m \u001b[1m906s\u001b[0m 202ms/step - accuracy: 0.9985 - loss: 0.0054 - val_accuracy: 0.9984 - val_loss: 0.0055\n",
      "Epoch 26/50\n",
      "\u001b[1m4477/4477\u001b[0m \u001b[32m━━━━━━━━━━━━━━━━━━━━\u001b[0m\u001b[37m\u001b[0m \u001b[1m905s\u001b[0m 202ms/step - accuracy: 0.9986 - loss: 0.0052 - val_accuracy: 0.9985 - val_loss: 0.0055\n",
      "Epoch 27/50\n",
      "\u001b[1m4477/4477\u001b[0m \u001b[32m━━━━━━━━━━━━━━━━━━━━\u001b[0m\u001b[37m\u001b[0m \u001b[1m906s\u001b[0m 202ms/step - accuracy: 0.9986 - loss: 0.0052 - val_accuracy: 0.9984 - val_loss: 0.0055\n",
      "Epoch 28/50\n",
      "\u001b[1m4477/4477\u001b[0m \u001b[32m━━━━━━━━━━━━━━━━━━━━\u001b[0m\u001b[37m\u001b[0m \u001b[1m905s\u001b[0m 202ms/step - accuracy: 0.9986 - loss: 0.0052 - val_accuracy: 0.9985 - val_loss: 0.0055\n",
      "Epoch 29/50\n",
      "\u001b[1m4477/4477\u001b[0m \u001b[32m━━━━━━━━━━━━━━━━━━━━\u001b[0m\u001b[37m\u001b[0m \u001b[1m905s\u001b[0m 202ms/step - accuracy: 0.9986 - loss: 0.0052 - val_accuracy: 0.9985 - val_loss: 0.0054\n",
      "Epoch 30/50\n",
      "\u001b[1m4477/4477\u001b[0m \u001b[32m━━━━━━━━━━━━━━━━━━━━\u001b[0m\u001b[37m\u001b[0m \u001b[1m905s\u001b[0m 202ms/step - accuracy: 0.9986 - loss: 0.0052 - val_accuracy: 0.9985 - val_loss: 0.0055\n",
      "Epoch 31/50\n",
      "\u001b[1m4477/4477\u001b[0m \u001b[32m━━━━━━━━━━━━━━━━━━━━\u001b[0m\u001b[37m\u001b[0m \u001b[1m906s\u001b[0m 202ms/step - accuracy: 0.9986 - loss: 0.0051 - val_accuracy: 0.9985 - val_loss: 0.0054\n",
      "Epoch 32/50\n",
      "\u001b[1m4477/4477\u001b[0m \u001b[32m━━━━━━━━━━━━━━━━━━━━\u001b[0m\u001b[37m\u001b[0m \u001b[1m905s\u001b[0m 202ms/step - accuracy: 0.9986 - loss: 0.0050 - val_accuracy: 0.9985 - val_loss: 0.0054\n",
      "Epoch 33/50\n",
      "\u001b[1m4477/4477\u001b[0m \u001b[32m━━━━━━━━━━━━━━━━━━━━\u001b[0m\u001b[37m\u001b[0m \u001b[1m905s\u001b[0m 202ms/step - accuracy: 0.9986 - loss: 0.0052 - val_accuracy: 0.9985 - val_loss: 0.0054\n",
      "Epoch 34/50\n",
      "\u001b[1m4477/4477\u001b[0m \u001b[32m━━━━━━━━━━━━━━━━━━━━\u001b[0m\u001b[37m\u001b[0m \u001b[1m906s\u001b[0m 202ms/step - accuracy: 0.9986 - loss: 0.0051 - val_accuracy: 0.9985 - val_loss: 0.0053\n",
      "Epoch 35/50\n",
      "\u001b[1m4477/4477\u001b[0m \u001b[32m━━━━━━━━━━━━━━━━━━━━\u001b[0m\u001b[37m\u001b[0m \u001b[1m905s\u001b[0m 202ms/step - accuracy: 0.9986 - loss: 0.0051 - val_accuracy: 0.9985 - val_loss: 0.0054\n",
      "Epoch 36/50\n",
      "\u001b[1m4477/4477\u001b[0m \u001b[32m━━━━━━━━━━━━━━━━━━━━\u001b[0m\u001b[37m\u001b[0m \u001b[1m906s\u001b[0m 202ms/step - accuracy: 0.9986 - loss: 0.0051 - val_accuracy: 0.9985 - val_loss: 0.0054\n",
      "Epoch 37/50\n",
      "\u001b[1m4477/4477\u001b[0m \u001b[32m━━━━━━━━━━━━━━━━━━━━\u001b[0m\u001b[37m\u001b[0m \u001b[1m906s\u001b[0m 202ms/step - accuracy: 0.9986 - loss: 0.0052 - val_accuracy: 0.9985 - val_loss: 0.0054\n"
     ]
    }
   ],
   "source": [
    "from tensorflow.keras.callbacks import EarlyStopping\n",
    "\n",
    "early_stopping = EarlyStopping(\n",
    "    monitor='val_loss',    \n",
    "    patience=3,           \n",
    "    restore_best_weights=True \n",
    ")\n",
    "\n",
    "history = model.fit(X_train, y_train, validation_data=(X_test, y_test), epochs=50, batch_size=32, callbacks=[early_stopping])"
   ]
  },
  {
   "cell_type": "markdown",
   "id": "40d57b31",
   "metadata": {},
   "source": [
    "**Thời gian huấn luyện mô hình: ~10h41m**"
   ]
  },
  {
   "cell_type": "code",
   "execution_count": 18,
   "id": "982b8188",
   "metadata": {
    "execution": {
     "iopub.execute_input": "2024-12-03T23:26:16.176066Z",
     "iopub.status.busy": "2024-12-03T23:26:16.175749Z",
     "iopub.status.idle": "2024-12-03T23:26:16.373734Z",
     "shell.execute_reply": "2024-12-03T23:26:16.372877Z"
    },
    "papermill": {
     "duration": 8.450685,
     "end_time": "2024-12-03T23:26:16.375509",
     "exception": false,
     "start_time": "2024-12-03T23:26:07.924824",
     "status": "completed"
    },
    "tags": []
   },
   "outputs": [
    {
     "data": {
      "image/png": "[encoded data removed]",
      "text/plain": [
       "<Figure size 640x480 with 1 Axes>"
      ]
     },
     "metadata": {},
     "output_type": "display_data"
    }
   ],
   "source": [
    "import matplotlib.pyplot as plt\n",
    "\n",
    "plt.plot(history.history['loss'], label='Training Loss')\n",
    "plt.plot(history.history['val_loss'], label='Validation Loss')\n",
    "plt.xlabel('Epochs')\n",
    "plt.ylabel('Loss')\n",
    "plt.title('Loss Curve')\n",
    "plt.legend()\n",
    "plt.show()"
   ]
  },
  {
   "cell_type": "code",
   "execution_count": 19,
   "id": "0cb6e1bc",
   "metadata": {
    "execution": {
     "iopub.execute_input": "2024-12-03T23:26:33.167738Z",
     "iopub.status.busy": "2024-12-03T23:26:33.167382Z",
     "iopub.status.idle": "2024-12-03T23:26:33.593007Z",
     "shell.execute_reply": "2024-12-03T23:26:33.592273Z"
    },
    "papermill": {
     "duration": 8.71528,
     "end_time": "2024-12-03T23:26:33.594668",
     "exception": false,
     "start_time": "2024-12-03T23:26:24.879388",
     "status": "completed"
    },
    "tags": []
   },
   "outputs": [
    {
     "name": "stdout",
     "output_type": "stream",
     "text": [
      "\u001b[1m1/1\u001b[0m \u001b[32m━━━━━━━━━━━━━━━━━━━━\u001b[0m\u001b[37m\u001b[0m \u001b[1m0s\u001b[0m 370ms/step\n",
      "Input: ban co muon di choi voi toi khong\n",
      "Restored: bạn có muốn đi chơi với tôi không\n"
     ]
    }
   ],
   "source": [
    "def restore_diacritics(text):\n",
    "    seq = tokenizer.texts_to_sequences([text])\n",
    "    padded_seq = pad_sequences(seq, maxlen=max_length, padding='post')\n",
    "    prediction = model.predict(padded_seq)\n",
    "    predicted_seq = np.argmax(prediction, axis=-1)[0]\n",
    "    restored_text = ''.join([tokenizer.index_word[idx] for idx in predicted_seq if idx != 0])\n",
    "    return restored_text\n",
    "\n",
    "# Kiểm tra mô hình\n",
    "example_text = \"ban co muon di choi voi toi khong\"\n",
    "restored_text = restore_diacritics(example_text)\n",
    "print(f\"Input: {example_text}\")\n",
    "print(f\"Restored: {restored_text}\")"
   ]
  },
  {
   "cell_type": "markdown",
   "id": "80cb2599",
   "metadata": {},
   "source": [
    "**Nhận xét: Mô hình đã cho kết quả tốt hơn mô hình ban đầu.**"
   ]
  },
  {
   "cell_type": "code",
   "execution_count": 20,
   "id": "3d566f78",
   "metadata": {
    "execution": {
     "iopub.execute_input": "2024-12-03T23:26:50.440831Z",
     "iopub.status.busy": "2024-12-03T23:26:50.440473Z",
     "iopub.status.idle": "2024-12-03T23:26:50.492806Z",
     "shell.execute_reply": "2024-12-03T23:26:50.492204Z"
    },
    "papermill": {
     "duration": 8.400804,
     "end_time": "2024-12-03T23:26:50.494549",
     "exception": false,
     "start_time": "2024-12-03T23:26:42.093745",
     "status": "completed"
    },
    "tags": []
   },
   "outputs": [],
   "source": [
    "model.save(\"/kaggle/working/vietnamese_diacritics_model_v2.h5\")"
   ]
  }
 ],
 "metadata": {
  "kaggle": {
   "accelerator": "nvidiaTeslaT4",
   "dataSources": [
    {
     "datasetId": 6169667,
     "sourceId": 10019731,
     "sourceType": "datasetVersion"
    },
    {
     "isSourceIdPinned": true,
     "modelId": 176266,
     "modelInstanceId": 153792,
     "sourceId": 180479,
     "sourceType": "modelInstanceVersion"
    }
   ],
   "dockerImageVersionId": 30786,
   "isGpuEnabled": true,
   "isInternetEnabled": true,
   "language": "python",
   "sourceType": "notebook"
  },
  "kernelspec": {
   "display_name": "Python 3",
   "language": "python",
   "name": "python3"
  },
  "language_info": {
   "codemirror_mode": {
    "name": "ipython",
    "version": 3
   },
   "file_extension": ".py",
   "mimetype": "text/x-python",
   "name": "python",
   "nbconvert_exporter": "python",
   "pygments_lexer": "ipython3",
   "version": "3.10.14"
  },
  "papermill": {
   "default_parameters": {},
   "duration": 33644.882512,
   "end_time": "2024-12-03T23:27:01.887212",
   "environment_variables": {},
   "exception": null,
   "input_path": "__notebook__.ipynb",
   "output_path": "__notebook__.ipynb",
   "parameters": {},
   "start_time": "2024-12-03T14:06:17.004700",
   "version": "2.6.0"
  }
 },
 "nbformat": 4,
 "nbformat_minor": 5
}
